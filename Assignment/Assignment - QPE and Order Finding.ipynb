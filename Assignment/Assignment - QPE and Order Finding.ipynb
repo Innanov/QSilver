{
 "cells": [
  {
   "cell_type": "markdown",
   "id": "cb032b46",
   "metadata": {
    "deletable": false,
    "editable": false,
    "nbgrader": {
     "cell_type": "markdown",
     "checksum": "5334f4e6d960b1a05a37fa8d84b53a20",
     "grade": false,
     "grade_id": "cell-9f8a84313b524ffd",
     "locked": true,
     "schema_version": 3,
     "solution": false,
     "task": false
    }
   },
   "source": [
    "# Instructions\n",
    "\n",
    "The places where you have enter code, to answer the questions, are marked with `# YOUR CODE HERE`. Once you have written your code you should remove the `raise NotImplementedError()` statement."
   ]
  },
  {
   "cell_type": "markdown",
   "id": "2c6893d0",
   "metadata": {
    "deletable": false,
    "editable": false,
    "nbgrader": {
     "cell_type": "markdown",
     "checksum": "0c8f30d63a6296fca6d9834474026ef5",
     "grade": false,
     "grade_id": "cell-fe8afc5c052a3bcc",
     "locked": true,
     "schema_version": 3,
     "solution": false,
     "task": false
    }
   },
   "source": [
    "## Question 1 (2 points)\n",
    "\n",
    "Complete the function `create_operator` that returns a controlled $U$ gate where $U$ is an operator with eigenvector $|1\\rangle$ and eigenvalue $e^{2\\pi i \\phi}$.\n",
    "\n",
    "The function `create_operator` has\n",
    "\n",
    "- Input: $\\phi$\n",
    "- Returns: Controlled $U$ gate with the properties described above\n",
    "\n",
    "Don't create any circuit. Only a gate should be returned.\n"
   ]
  },
  {
   "cell_type": "code",
   "execution_count": 1,
   "id": "cf0792cb",
   "metadata": {
    "deletable": false,
    "nbgrader": {
     "cell_type": "code",
     "checksum": "debcc4e4818d6243e4d06b20e6b7ad8b",
     "grade": false,
     "grade_id": "cell-82b1d9f1290cc5e0",
     "locked": false,
     "schema_version": 3,
     "solution": true,
     "task": false
    }
   },
   "outputs": [],
   "source": [
    "from cirq import CZPowGate\n",
    "\n",
    "def create_operator(phi):\n",
    "    \n",
    "    # YOUR CODE HERE\n",
    "    \n",
    "    CU = CZPowGate(exponent=phi*2)\n",
    "\n",
    "    \n",
    "    #raise NotImplementedError()\n",
    "    \n",
    "    # Do not modify anything below this line  \n",
    "    return CU"
   ]
  },
  {
   "cell_type": "code",
   "execution_count": 2,
   "id": "77af29c5",
   "metadata": {},
   "outputs": [
    {
     "name": "stdout",
     "output_type": "stream",
     "text": [
      "[[ 1.        +0.j          0.        +0.j          0.        +0.j\n",
      "   0.        +0.j        ]\n",
      " [ 0.        +0.j          1.        +0.j          0.        +0.j\n",
      "   0.        +0.j        ]\n",
      " [ 0.        +0.j          0.        +0.j          1.        +0.j\n",
      "   0.        +0.j        ]\n",
      " [ 0.        +0.j          0.        +0.j          0.        +0.j\n",
      "  -0.80901699-0.58778525j]]\n",
      "(-0.8090169943749475-0.587785252292473j)\n"
     ]
    }
   ],
   "source": [
    "# You can use this code to test your function by checking the \n",
    "# bottom right corner of the unitary matrix\n",
    "import cirq\n",
    "from cmath import exp, pi\n",
    "\n",
    "def test(phi):\n",
    "    CU = create_operator(phi)\n",
    "    unitary_matrix = cirq.unitary(CU)\n",
    "    print(unitary_matrix)\n",
    "\n",
    "phi=3/5\n",
    "test(phi)\n",
    "print(exp(2*pi*phi*1j))"
   ]
  },
  {
   "cell_type": "code",
   "execution_count": 12,
   "id": "25c51e14",
   "metadata": {
    "deletable": false,
    "editable": false,
    "nbgrader": {
     "cell_type": "code",
     "checksum": "c7c23179dfb3a17822005e21fea9f374",
     "grade": true,
     "grade_id": "cell-cd241b6d6cf71a0d",
     "locked": true,
     "points": 1,
     "schema_version": 3,
     "solution": false,
     "task": false
    }
   },
   "outputs": [],
   "source": [
    "# hidden tests in this cell will be used for grading."
   ]
  },
  {
   "cell_type": "code",
   "execution_count": 13,
   "id": "2b35bfb8",
   "metadata": {
    "deletable": false,
    "editable": false,
    "nbgrader": {
     "cell_type": "code",
     "checksum": "f175c313256e7057e252bae20aaa8f1a",
     "grade": true,
     "grade_id": "cell-68777e2b942c10ad",
     "locked": true,
     "points": 1,
     "schema_version": 3,
     "solution": false,
     "task": false
    }
   },
   "outputs": [],
   "source": [
    "# hidden tests in this cell will be used for grading."
   ]
  },
  {
   "cell_type": "markdown",
   "id": "4303ec4a",
   "metadata": {
    "deletable": false,
    "editable": false,
    "nbgrader": {
     "cell_type": "markdown",
     "checksum": "8f028312e39e5d0f79b9925589128a1c",
     "grade": false,
     "grade_id": "cell-e54feec8cc684fe6",
     "locked": true,
     "schema_version": 3,
     "solution": false,
     "task": false
    }
   },
   "source": [
    "## Question 2 (8 points)\n",
    "\n",
    "Complete the function `estimate_phi` such that given a controlled $U$ gate where $U$ is an operator with eigenvector $|1\\rangle$ and eigenvalue $e^{2\\pi i \\phi}$, it estimates and returns $\\phi$.\n",
    "\n",
    "The function `estimate_phi` has\n",
    "\n",
    "- Input: Controlled $U$ gate\n",
    "- Returns: Estimate for phi \n",
    "\n",
    "You are given iqft and qpe algorithms and you can use them in your solution.\n"
   ]
  },
  {
   "cell_type": "code",
   "execution_count": 3,
   "id": "4e2c3e1f",
   "metadata": {},
   "outputs": [],
   "source": [
    "def iqft(n,qubits,circuit):\n",
    "    \n",
    "    #Swap the qubits\n",
    "    for i in range(n//2):\n",
    "        circuit.append(SWAP(qubits[i],qubits[n-i-1]), strategy = InsertStrategy.NEW)\n",
    "     \n",
    "    #For each qubit\n",
    "    for i in range(n-1,-1,-1):\n",
    "        #Apply CR_k gates where j is the control and i is the target\n",
    "        k=n-i #We start with k=n-i\n",
    "        for j in range(n-1,i,-1):\n",
    "            #Define and apply CR_k gate\n",
    "            crk = CZPowGate(exponent = -2/2**(k))\n",
    "            circuit.append(crk(qubits[j],qubits[i]),strategy = InsertStrategy.NEW)\n",
    "            k=k-1 #Decrement at each step\n",
    "            \n",
    "        #Apply Hadamard to the qubit\n",
    "        circuit.append(H(qubits[i]),strategy = InsertStrategy.NEW)\n",
    "\n",
    "def qpe(t,control, target, circuit, CU):\n",
    "    \n",
    "    #Apply Hadamard to control qubits\n",
    "    circuit.append(cirq.H.on_each(control))\n",
    "    \n",
    "    #Apply CU gates\n",
    "    for i in range(t):\n",
    "        #Obtain the power of CU gate \n",
    "        CUi = CU**(2**i)\n",
    "        #Apply CUi gate where t-i-1 is the control\n",
    "        circuit.append(CUi(control[t-i-1],*target))\n",
    "        \n",
    "        \n",
    "    #Apply inverse QFT\n",
    "    iqft(t,control,circuit)\n",
    "    "
   ]
  },
  {
   "cell_type": "code",
   "execution_count": 10,
   "id": "c4f723c3",
   "metadata": {
    "deletable": false,
    "nbgrader": {
     "cell_type": "code",
     "checksum": "a34b36e04048030a627c8e94dcfe9991",
     "grade": false,
     "grade_id": "cell-b44e1b0ab98ac431",
     "locked": false,
     "schema_version": 3,
     "solution": true,
     "task": false
    }
   },
   "outputs": [],
   "source": [
    "import cirq\n",
    "from cirq.circuits import InsertStrategy\n",
    "from cirq import H, SWAP, CZPowGate\n",
    "def estimate_phi(mystery):\n",
    "\n",
    "    \n",
    "\n",
    "    #Create cirucit\n",
    "    circuit = cirq.Circuit()\n",
    "    \n",
    "    n=1#Number of qubits in the register storing eigenvector\n",
    "    t=10\n",
    "    #mystery=CZPowGate(exponent=phi*2)\n",
    "    \n",
    "\n",
    "    #Create t control qubits\n",
    "    control = [cirq.LineQubit(i) for i in range(t) ]\n",
    "\n",
    "    #Create n target qubits\n",
    "    target = [cirq.LineQubit(i) for i in range(t,t+n) ]\n",
    "\n",
    "    #Set target qubit to state |1> \n",
    "    circuit.append(cirq.X.on_each(target))\n",
    "    \n",
    "    #Apply QPE\n",
    "    qpe(t,control, target, circuit, mystery)    \n",
    "    \n",
    "    circuit.append(cirq.measure(*control, key='result'))\n",
    "    \n",
    "    s=cirq.Simulator()\n",
    "    samples=s.run(circuit, repetitions=1000)\n",
    "    \n",
    "    \n",
    "    #Most frequent observation\n",
    "    \n",
    "    freq = list(samples.histogram(key='result').keys())[0]\n",
    "    #print(freq/2**t)\n",
    "    \n",
    "    return freq/2**t\n",
    "\n",
    " "
   ]
  },
  {
   "cell_type": "code",
   "execution_count": 13,
   "id": "8a72f00a",
   "metadata": {},
   "outputs": [
    {
     "name": "stdout",
     "output_type": "stream",
     "text": [
      "0.2470703125\n"
     ]
    }
   ],
   "source": [
    "# You can use this code to test your function by different operators\n",
    "import math\n",
    "def test_qpe(phi):\n",
    "    operator = CZPowGate(exponent=2*phi)\n",
    "    return estimate_phi(operator)\n",
    "#math.isclose( test_qpe(0.23) , 0.23, abs_tol = 1e-2)\n",
    "assert(math.isclose(test_qpe(0.23),0.23,rel_tol=1e-2))\n",
    "print(test_qpe(0.23))\n"
   ]
  },
  {
   "cell_type": "code",
   "execution_count": 20,
   "id": "ddd6010f",
   "metadata": {
    "deletable": false,
    "editable": false,
    "nbgrader": {
     "cell_type": "code",
     "checksum": "da9652775094630638e67012c17d4dc2",
     "grade": true,
     "grade_id": "cell-f90710241f01144a",
     "locked": true,
     "points": 4,
     "schema_version": 3,
     "solution": false,
     "task": false
    }
   },
   "outputs": [],
   "source": [
    "# hidden tests in this cell will be used for grading."
   ]
  },
  {
   "cell_type": "code",
   "execution_count": null,
   "id": "6ee26bc7",
   "metadata": {
    "deletable": false,
    "editable": false,
    "nbgrader": {
     "cell_type": "code",
     "checksum": "c208928b816922580abdf4712b48549f",
     "grade": true,
     "grade_id": "cell-6c89a4463d522e08",
     "locked": true,
     "points": 4,
     "schema_version": 3,
     "solution": false,
     "task": false
    }
   },
   "outputs": [],
   "source": [
    "# hidden tests in this cell will be used for grading."
   ]
  },
  {
   "cell_type": "code",
   "execution_count": null,
   "id": "269c3ce8",
   "metadata": {},
   "outputs": [],
   "source": []
  }
 ],
 "metadata": {
  "kernelspec": {
   "display_name": "Python 3",
   "language": "python",
   "name": "python3"
  },
  "language_info": {
   "codemirror_mode": {
    "name": "ipython",
    "version": 3
   },
   "file_extension": ".py",
   "mimetype": "text/x-python",
   "name": "python",
   "nbconvert_exporter": "python",
   "pygments_lexer": "ipython3",
   "version": "3.9.4"
  }
 },
 "nbformat": 4,
 "nbformat_minor": 5
}
