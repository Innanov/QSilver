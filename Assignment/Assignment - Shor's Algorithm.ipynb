{
 "cells": [
  {
   "cell_type": "markdown",
   "id": "5c9350d2",
   "metadata": {
    "deletable": false,
    "editable": false,
    "nbgrader": {
     "cell_type": "markdown",
     "checksum": "b01c54198629fe4887200e4b5633b91e",
     "grade": false,
     "grade_id": "cell-8ed15a5214fc1326",
     "locked": true,
     "schema_version": 3,
     "solution": false,
     "task": false
    }
   },
   "source": [
    "# Instructions\n",
    "\n",
    "The places where you have enter code, to answer the questions, are marked with `# YOUR CODE HERE`. Once you have written your code you should remove the `raise NotImplementedError()` statement."
   ]
  },
  {
   "cell_type": "markdown",
   "id": "a14f6e8f",
   "metadata": {
    "deletable": false,
    "editable": false,
    "nbgrader": {
     "cell_type": "markdown",
     "checksum": "abf29f700cc6cfe35b160ea0af25f7a4",
     "grade": false,
     "grade_id": "cell-32333c7d6868d8f7",
     "locked": true,
     "schema_version": 3,
     "solution": false,
     "task": false
    }
   },
   "source": [
    "## Question 1 (1 point)\n",
    "\n",
    "Complete the function `calcL` such that given $N$, it returns the size $L$ of the target register. Note that $L = \\log_2 N$. \n",
    "\n",
    "The function `calcL` has\n",
    "\n",
    "- Input: integer $N$\n",
    "- Returns: integer L, the size of the target register"
   ]
  },
  {
   "cell_type": "code",
   "execution_count": 35,
   "id": "cf595195",
   "metadata": {
    "deletable": false,
    "nbgrader": {
     "cell_type": "code",
     "checksum": "83f2d33ecad97dd30f34c371efcf931e",
     "grade": false,
     "grade_id": "cell-75bc66741474d4ab",
     "locked": false,
     "schema_version": 3,
     "solution": true,
     "task": false
    }
   },
   "outputs": [],
   "source": [
    "import math\n",
    "def calcL(N):\n",
    "    \n",
    "    # YOUR CODE HERE\n",
    "    L=math.ceil(math.log2(N))\n",
    "    #raise NotImplementedError()\n",
    "\n",
    "    return L"
   ]
  },
  {
   "cell_type": "code",
   "execution_count": 36,
   "id": "b8ad8621",
   "metadata": {},
   "outputs": [
    {
     "name": "stdout",
     "output_type": "stream",
     "text": [
      "5\n",
      "6\n"
     ]
    }
   ],
   "source": [
    "# You can use this cell to test your function\n",
    "print(calcL(30))\n",
    "print(calcL(62))"
   ]
  },
  {
   "cell_type": "code",
   "execution_count": null,
   "id": "bbae4c12",
   "metadata": {
    "deletable": false,
    "editable": false,
    "nbgrader": {
     "cell_type": "code",
     "checksum": "8da96ee91e745dc1a299f9ad09ddc81d",
     "grade": true,
     "grade_id": "cell-d52c529568c6e477",
     "locked": true,
     "points": 1,
     "schema_version": 3,
     "solution": false,
     "task": false
    }
   },
   "outputs": [],
   "source": [
    "# hidden tests in this cell will be used for grading."
   ]
  },
  {
   "cell_type": "markdown",
   "id": "b1929477",
   "metadata": {
    "deletable": false,
    "editable": false,
    "nbgrader": {
     "cell_type": "markdown",
     "checksum": "152ffcd05004a3a6cc200cb71350530b",
     "grade": false,
     "grade_id": "cell-80a9c89d191d5bff",
     "locked": true,
     "schema_version": 3,
     "solution": false,
     "task": false
    }
   },
   "source": [
    "## Question 2 (1 point)\n",
    "\n",
    "Complete the function `calct` such that given $N$, it returns the size $t$ of the control register. Note that $t = 2L + 1 + \\big \\lceil \\log \\big( 2 + \\frac{1}{2\\epsilon} \\big) \\big \\rceil$. Let $\\epsilon=0.1$. \n",
    "\n",
    "The function `calct` has\n",
    "\n",
    "- Input: integer $N$\n",
    "- Returns: integer t, size of the control register"
   ]
  },
  {
   "cell_type": "code",
   "execution_count": 29,
   "id": "f28dc98e",
   "metadata": {
    "deletable": false,
    "nbgrader": {
     "cell_type": "code",
     "checksum": "d5762ab0c193090382e177e4f07fb809",
     "grade": false,
     "grade_id": "cell-039ed781e779c80f",
     "locked": false,
     "schema_version": 3,
     "solution": true,
     "task": false
    }
   },
   "outputs": [],
   "source": [
    "import math\n",
    "def calct(N):\n",
    "    \n",
    "    # YOUR CODE HERE\n",
    "    eps = 0.1\n",
    "    L=math.ceil(math.log2(N))\n",
    "    t=2*L+1+math.ceil(math.log2(1+1/(2*eps)))\n",
    "    #raise NotImplementedError()\n",
    "    \n",
    "    return t"
   ]
  },
  {
   "cell_type": "code",
   "execution_count": 30,
   "id": "853bb8fa",
   "metadata": {},
   "outputs": [
    {
     "name": "stdout",
     "output_type": "stream",
     "text": [
      "14\n",
      "16\n"
     ]
    }
   ],
   "source": [
    "# You can use this cell to test your function\n",
    "print(calct(30)) #For 30 the answer is 14\n",
    "print(calct(62)) #For 62 the answer is 16"
   ]
  },
  {
   "cell_type": "code",
   "execution_count": null,
   "id": "db437254",
   "metadata": {
    "deletable": false,
    "editable": false,
    "nbgrader": {
     "cell_type": "code",
     "checksum": "18972f0a396ef4c91cc38e771f83c203",
     "grade": true,
     "grade_id": "cell-239b9b757f2d36d2",
     "locked": true,
     "points": 1,
     "schema_version": 3,
     "solution": false,
     "task": false
    }
   },
   "outputs": [],
   "source": [
    "# hidden tests in this cell will be used for grading."
   ]
  },
  {
   "cell_type": "markdown",
   "id": "0d9a27ee",
   "metadata": {
    "deletable": false,
    "editable": false,
    "nbgrader": {
     "cell_type": "markdown",
     "checksum": "9ed965567dc7008ad41da73d5bbabc59",
     "grade": false,
     "grade_id": "cell-feeca957deb592ed",
     "locked": true,
     "schema_version": 3,
     "solution": false,
     "task": false
    }
   },
   "source": [
    "## Question 3 (2 points)\n",
    "\n",
    "Complete the function `create_regs` such that given the size of the control and target registers, it returns the control and target registers.\n",
    "\n",
    "The function `create_regs` has\n",
    "\n",
    "- Input: integers $L$ and $t$\n",
    "- Returns: Two registers `control` and `target`\n"
   ]
  },
  {
   "cell_type": "code",
   "execution_count": null,
   "id": "8835d347",
   "metadata": {
    "deletable": false,
    "nbgrader": {
     "cell_type": "code",
     "checksum": "1b110c2bc61da1d222e7faae6cd49e5b",
     "grade": false,
     "grade_id": "cell-092dba8602e22be6",
     "locked": false,
     "schema_version": 3,
     "solution": true,
     "task": false
    }
   },
   "outputs": [],
   "source": [
    "import cirq\n",
    "def create_regs(t,L):\n",
    "\n",
    "    # YOUR CODE HERE\n",
    "    \n",
    "    #raise NotImplementedError()\n",
    "    \n",
    "    return control, target"
   ]
  },
  {
   "cell_type": "code",
   "execution_count": null,
   "id": "766392da",
   "metadata": {
    "deletable": false,
    "editable": false,
    "nbgrader": {
     "cell_type": "code",
     "checksum": "eefd8e3a6e5f3554240265d87b6916f4",
     "grade": true,
     "grade_id": "cell-1df11e37dacf2e76",
     "locked": true,
     "points": 1,
     "schema_version": 3,
     "solution": false,
     "task": false
    }
   },
   "outputs": [],
   "source": [
    "# hidden tests in this cell will be used for grading."
   ]
  },
  {
   "cell_type": "code",
   "execution_count": null,
   "id": "a6836f7e",
   "metadata": {
    "deletable": false,
    "editable": false,
    "nbgrader": {
     "cell_type": "code",
     "checksum": "94c14b7a64200f6185e32a68314f43eb",
     "grade": true,
     "grade_id": "cell-083a5a31c7b79359",
     "locked": true,
     "points": 1,
     "schema_version": 3,
     "solution": false,
     "task": false
    }
   },
   "outputs": [],
   "source": [
    "# hidden tests in this cell will be used for grading."
   ]
  },
  {
   "cell_type": "markdown",
   "id": "ab634341",
   "metadata": {
    "deletable": false,
    "editable": false,
    "nbgrader": {
     "cell_type": "markdown",
     "checksum": "a4541de07fa06f72abf62d070d87f316",
     "grade": false,
     "grade_id": "cell-9368bbe3bf9f36ef",
     "locked": true,
     "schema_version": 3,
     "solution": false,
     "task": false
    }
   },
   "source": [
    "## Question 4 (6 points)\n",
    "\n",
    "Complete the function `order` so that given $x$ and $N$, it returns the histogram of samples from the order finding circuit.\n",
    "\n",
    "The function `order` has\n",
    "\n",
    "- Input: $x$ and $N$\n",
    "- Returns: A histogram of samples\n",
    "\n",
    "Notes:\n",
    "\n",
    "- You are given a function named $U_x$ which implements $U_x |y\\rangle \\rightarrow |xy {\\mod N}\\rangle $ and returns its controlled version. Run the following cell to load the function. In order to use the function you should pass $x$ and $N$ as parameters.\n",
    "\n",
    "    <pre>CU=Ux(x,N)</pre>\n",
    "\n",
    "- You are also given the code for `qpe` and `iqft`."
   ]
  },
  {
   "cell_type": "code",
   "execution_count": 31,
   "id": "16e8832b",
   "metadata": {},
   "outputs": [],
   "source": [
    "import numpy as np\n",
    "def Ux(x,N):\n",
    "\n",
    "    k=1\n",
    "    while(N>2**k):\n",
    "        k=k+1\n",
    "        \n",
    "    u = np.zeros([2**k, 2**k], dtype = int) \n",
    "\n",
    "    for i in range(N):\n",
    "        u[x*i%N][i]=1\n",
    "    for i in range(N,2**k):\n",
    "        u[i][i]=1\n",
    "        \n",
    "\n",
    "    XU = cirq.MatrixGate(u).controlled()\n",
    "    return XU\n"
   ]
  },
  {
   "cell_type": "code",
   "execution_count": 32,
   "id": "fa4957d8",
   "metadata": {},
   "outputs": [],
   "source": [
    "import cirq\n",
    "from cirq.circuits import InsertStrategy\n",
    "from cirq import H, SWAP, CZPowGate\n",
    "\n",
    "def iqft(n,qubits,circuit):\n",
    " \n",
    "    #Swap the qubits\n",
    "    for i in range(n//2):\n",
    "        circuit.append(SWAP(qubits[i],qubits[n-i-1]), strategy = InsertStrategy.NEW)\n",
    "     \n",
    "    #For each qubit\n",
    "    for i in range(n-1,-1,-1):\n",
    "        #Apply CR_k gates where j is the control and i is the target\n",
    "        k=n-i #We start with k=n-i\n",
    "        for j in range(n-1,i,-1):\n",
    "            #Define and apply CR_k gate\n",
    "            crk = CZPowGate(exponent = -2/2**(k))\n",
    "            circuit.append(crk(qubits[j],qubits[i]),strategy = InsertStrategy.NEW)\n",
    "            k=k-1 #Decrement at each step\n",
    "            \n",
    "        #Apply Hadamard to the qubit\n",
    "        circuit.append(H(qubits[i]),strategy = InsertStrategy.NEW)\n",
    "\n",
    "def qpe(t,control, target, circuit, CU):\n",
    "    \n",
    "    #Apply Hadamard to control qubits\n",
    "    circuit.append(cirq.H.on_each(control))\n",
    "    \n",
    "    #Apply CU gates\n",
    "    for i in range(t):\n",
    "        #Obtain the power of CU gate \n",
    "        CUi = CU**(2**i)\n",
    "        #Apply CUi gate where t-i-1 is the control\n",
    "        circuit.append(CUi(control[t-i-1],*target))\n",
    "        \n",
    "    #Apply inverse QFT\n",
    "    iqft(t,control,circuit)"
   ]
  },
  {
   "cell_type": "code",
   "execution_count": 33,
   "id": "5d3e36d3",
   "metadata": {
    "deletable": false,
    "nbgrader": {
     "cell_type": "code",
     "checksum": "5be123079acb8e6a2eb74c5d1e2efb90",
     "grade": false,
     "grade_id": "cell-d57530f250d5ffaf",
     "locked": false,
     "schema_version": 3,
     "solution": true,
     "task": false
    }
   },
   "outputs": [],
   "source": [
    "import cirq\n",
    "from cirq import X, SWAP\n",
    "\n",
    "def order(x,N):\n",
    "    #Create a circuit\n",
    "    circuit = cirq.Circuit()\n",
    "    \n",
    "    # YOUR CODE HERE\n",
    "    L=math.ceil(math.log2(N))\n",
    "    e = 0.1\n",
    "    t = 2*L+1+math.ceil(math.log2(2+1/(2*e)))\n",
    "    control = [cirq.LineQubit(i) for i in range(1,t+1) ]\n",
    "    target = [cirq.LineQubit(i) for i in range(t+1,t+1+L) ]\n",
    "    \n",
    "    circuit.append(cirq.X(target[L-1]))\n",
    "\n",
    "    #Create operator CU\n",
    "    CU=Ux(x,N)\n",
    "\n",
    "    #Call phase estimation circuit\n",
    "    qpe(t,control, target, circuit, CU)    \n",
    "    \n",
    "    #raise NotImplementedError()\n",
    "\n",
    "    #Measure the control register\n",
    "    circuit.append(cirq.measure(*control, key='result'))\n",
    "\n",
    "    #Sample the circuit\n",
    "    s=cirq.Simulator()\n",
    "    samples=s.run(circuit, repetitions=1000)\n",
    "\n",
    "    # Return a histogram of samples\n",
    "    results= samples.histogram(key='result')\n",
    "    return results"
   ]
  },
  {
   "cell_type": "code",
   "execution_count": 34,
   "id": "21bf3d1c",
   "metadata": {},
   "outputs": [
    {
     "name": "stdout",
     "output_type": "stream",
     "text": [
      "Counter({3277: 205, 0: 187, 13107: 171, 9830: 130, 6554: 94, 6553: 53, 9831: 51, 13108: 13, 6555: 10, 6552: 9, 3276: 9, 3278: 6, 13106: 6, 9832: 5, 9833: 4, 9829: 4, 13110: 3, 6530: 2, 6551: 2, 6520: 1, 9834: 1, 6559: 1, 13210: 1, 3290: 1, 9826: 1, 13113: 1, 9797: 1, 9837: 1, 3275: 1, 9827: 1, 6613: 1, 13111: 1, 9838: 1, 6556: 1, 6550: 1, 9828: 1, 3263: 1, 9815: 1, 13112: 1, 3273: 1, 9825: 1, 13093: 1, 3285: 1, 6557: 1, 9794: 1, 6575: 1, 6529: 1, 6590: 1, 9758: 1, 6495: 1, 3279: 1, 9851: 1, 6545: 1, 6528: 1, 13109: 1})\n"
     ]
    }
   ],
   "source": [
    "#You can use this cell to test your function\n",
    "\n",
    "results = order(4,31)\n",
    "print(results)"
   ]
  },
  {
   "cell_type": "code",
   "execution_count": null,
   "id": "d4bf899f",
   "metadata": {
    "deletable": false,
    "editable": false,
    "nbgrader": {
     "cell_type": "code",
     "checksum": "f77c3fc5cf16c1768df15ccfad78db5d",
     "grade": true,
     "grade_id": "cell-5e6c350f8099b02d",
     "locked": true,
     "points": 6,
     "schema_version": 3,
     "solution": false,
     "task": false
    }
   },
   "outputs": [],
   "source": [
    "# hidden tests in this cell will be used for grading."
   ]
  }
 ],
 "metadata": {
  "kernelspec": {
   "display_name": "Python 3",
   "language": "python",
   "name": "python3"
  },
  "language_info": {
   "codemirror_mode": {
    "name": "ipython",
    "version": 3
   },
   "file_extension": ".py",
   "mimetype": "text/x-python",
   "name": "python",
   "nbconvert_exporter": "python",
   "pygments_lexer": "ipython3",
   "version": "3.9.4"
  }
 },
 "nbformat": 4,
 "nbformat_minor": 5
}
